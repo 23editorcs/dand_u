{
 "cells": [
  {
   "cell_type": "markdown",
   "metadata": {},
   "source": [
    "## Analysis and Visualization Report - WeRateDogs Twitter Data\n",
    "### by Arvind Sharma"
   ]
  },
  {
   "cell_type": "markdown",
   "metadata": {},
   "source": [
    "### Introduction"
   ]
  },
  {
   "attachments": {},
   "cell_type": "markdown",
   "metadata": {},
   "source": [
    "[WeRateDogs](https://twitter.com/dog_rates) is a twitter account which rates people's dog in a humurous way was started by in 2015 by college student Matt Nelson, and has received international media coverage. As of December 2018, the Twitter account has nearly 7.6 million followers, and Nelson sees 30,000 likes on a post as being viral. The account's language has spawned an Internet language about \"doggos\" and \"puppers\".\n",
    "\n",
    "WeRateDogs has successfully used the account to raise money for the American Society for the Prevention of Cruelty to Animals (ASPCA), as well as individual GoFundMe campaigns.\n",
    "\n",
    "In October 2017, Nelson released a book based on the Twitter account, #WeRateDogs: The Most Hilarious and Adorable Pups You’ve Ever Seen.\n",
    "\n",
    "![](images/weratedogs.png)"
   ]
  },
  {
   "cell_type": "markdown",
   "metadata": {},
   "source": [
    "Preceding analysis and visualization, data wrangling was performed wherein apart from the provided data, additional data was gathered from web and twitter API. Gathered data was then assessed and cleaned for quality and tidiness issues to enable this analysis and visualization.\n",
    "\n",
    "### Of all the dog stages namely 'Doggo', 'Pupper', 'Floofer' and 'Puppo' which are the most tweeted ones?\n",
    "\n",
    "![](images/distribution_dog_stages.png)\n",
    "\n",
    "#### Insight 1\n",
    "\n",
    "Of all the available entries with valid 'dog_stage' values, we find that 'Pupper' is the most tweeted dog stage followed by 'Doggo', 'Puppo', 'Multiple' and 'Floofer'."
   ]
  },
  {
   "attachments": {},
   "cell_type": "markdown",
   "metadata": {},
   "source": [
    "### Now that we know what are the most tweeted dog stages, let us check out the retweet and favorite count for each dog stage and see if it follows the pattern of tweet percentage.\n",
    "\n",
    "![](images/retweet_fav.png)\n",
    "\n",
    "From the bar plot above we find that rewteet and favorite count for dog stages do not follow the pattern of their percentage share for 'WeRateDogs' account's twitter data.\n",
    "\n",
    "#### Insight 2\n",
    "\n",
    "Of all the available entries with valid 'dog_stage' values, we find that 'Puppo' and 'Doggo' dog stages are the most retweeted and favorited ('Puppo' stage with highest favorite count and 'Doggo' stage with highest retweet count) followed by the stages 'Multiple', 'Floofer' and 'Pupper'.\n",
    "\n",
    "Note: 'Multiple' stands for more than one dog stage mentioned in the tweet."
   ]
  },
  {
   "attachments": {},
   "cell_type": "markdown",
   "metadata": {},
   "source": [
    "### Shouldn't we explore the mean rating for the different dog stages and see whether they follow similar pattern to percentage share or retweet and favorite count means? Well, I believe the latter to be more true. What do you say?\n",
    "\n",
    "![](images/mean_rating.png)\n",
    "\n",
    "\n",
    "#### Insight 3\n",
    "\n",
    "The bar plot above shows that mean ratings for the dog stages follow the pattern somewhat similar to the retweet and favorite mean counts instead of tweet percentage share of dog stages. The decreasing order of mean rating of different dog stages is 'Multiple', Floofer', 'Puppo', 'Doggo' and 'Pupper'."
   ]
  },
  {
   "attachments": {},
   "cell_type": "markdown",
   "metadata": {},
   "source": [
    "### How about we find out the most common ratings given by twitter user 'WeRateDogs' with user handle @dog_rates?\n",
    "\n",
    "![](images/top_5_ratings.png)\n",
    "\n",
    "#### Insight 4\n",
    "\n",
    "The bar plot above gives us the top 5 most common ratings by twitter user 'WeRateDogs' with user handle @dog_rates which are 1.2, 1.0, 1.1, 1.3, 0.9 in decreasing order, also represented as 12/10, 10/10, 11/10, 13/10, 9/10 respectively."
   ]
  },
  {
   "attachments": {},
   "cell_type": "markdown",
   "metadata": {},
   "source": [
    "### Why don't we also find the most common image predictions i.e. dog breeds 'p1', 'p2' and 'p3' which was provided to us by running the tweet data through a neural network?\n",
    "\n",
    "![](images/img_predictions.png)\n",
    "\n",
    "#### Insight 5\n",
    "\n",
    "The bar plots above for tweet image predictions derived from neural network, shows 'Golden Retriever', 'Labrador Retriever' and 'Chihuahua' as the most predicted dogs which are common in all the top 5 dog breeds among all three image predictions."
   ]
  },
  {
   "attachments": {},
   "cell_type": "markdown",
   "metadata": {},
   "source": [
    "### Let's find out whether there is a correlation between retweet count and favorite count for tweets by the twitter user 'WeRateDogs' with user handle @dog_rates?\n",
    "\n",
    "![](images/correlation.png)\n",
    "\n",
    "#### Insight 6\n",
    "\n",
    "From the scatter plot of logarithm of retweent and favorite counts above, we find that 'retweet_count' and 'favorite_count' are directly correlated with each other i.e. increase in the values of 'retweet_count' resulted in consequent increase in values of 'favorite_count'."
   ]
  },
  {
   "attachments": {},
   "cell_type": "markdown",
   "metadata": {},
   "source": [
    "### As a final bid, lets find out what is the trend for retweet count and favorite count over time for the tweets by the twitter user 'WeRateDogs' with user handle @dog_rates?\n",
    "\n",
    "![](images/retweets_over_time.png)\n",
    "![](images/favorites_over_time.png)\n",
    "\n",
    "### Insight 7\n",
    "\n",
    "For the two plots aboven, we find that there has been a steady increase in 'retweet_count' and 'favorite_count' of the tweets from the twitter account @dog_rates which indicates it growing popularity over time."
   ]
  }
 ],
 "metadata": {
  "kernelspec": {
   "display_name": "Python 3",
   "language": "python",
   "name": "python3"
  },
  "language_info": {
   "codemirror_mode": {
    "name": "ipython",
    "version": 3
   },
   "file_extension": ".py",
   "mimetype": "text/x-python",
   "name": "python",
   "nbconvert_exporter": "python",
   "pygments_lexer": "ipython3",
   "version": "3.7.1"
  }
 },
 "nbformat": 4,
 "nbformat_minor": 2
}
